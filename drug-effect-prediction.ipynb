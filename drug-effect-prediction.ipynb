{
 "cells": [
  {
   "cell_type": "markdown",
   "id": "b4a510b7-0a27-43a9-af7a-5f62868f9ac3",
   "metadata": {},
   "source": [
    "Installing packages"
   ]
  },
  {
   "cell_type": "code",
   "execution_count": 28,
   "id": "1909c6f6-dc33-49ff-9f48-873a5310930c",
   "metadata": {},
   "outputs": [
    {
     "name": "stdout",
     "output_type": "stream",
     "text": [
      "Requirement already satisfied: numpy in /home/studio-lab-user/.conda/envs/default/lib/python3.9/site-packages (1.22.1)\n",
      "Requirement already satisfied: pandas in /home/studio-lab-user/.conda/envs/default/lib/python3.9/site-packages (1.4.0)\n",
      "Requirement already satisfied: pytz>=2020.1 in /home/studio-lab-user/.conda/envs/default/lib/python3.9/site-packages (from pandas) (2021.3)\n",
      "Requirement already satisfied: numpy>=1.18.5 in /home/studio-lab-user/.conda/envs/default/lib/python3.9/site-packages (from pandas) (1.22.1)\n",
      "Requirement already satisfied: python-dateutil>=2.8.1 in /home/studio-lab-user/.conda/envs/default/lib/python3.9/site-packages (from pandas) (2.8.2)\n",
      "Requirement already satisfied: six>=1.5 in /home/studio-lab-user/.conda/envs/default/lib/python3.9/site-packages (from python-dateutil>=2.8.1->pandas) (1.16.0)\n",
      "Collecting sklearn\n",
      "  Downloading sklearn-0.0.tar.gz (1.1 kB)\n",
      "Collecting scikit-learn\n",
      "  Downloading scikit_learn-1.1.2-cp39-cp39-manylinux_2_17_x86_64.manylinux2014_x86_64.whl (30.8 MB)\n",
      "\u001b[K     |████████████████████████████████| 30.8 MB 2.2 MB/s eta 0:00:01███████████████▋          | 20.8 MB 2.2 MB/s eta 0:00:05\n",
      "\u001b[?25hCollecting scipy>=1.3.2\n",
      "  Downloading scipy-1.9.2-cp39-cp39-manylinux_2_17_x86_64.manylinux2014_x86_64.whl (33.8 MB)\n",
      "\u001b[K     |████████████████████████████████| 33.8 MB 63.9 MB/s eta 0:00:01\n",
      "\u001b[?25hCollecting joblib>=1.0.0\n",
      "  Downloading joblib-1.2.0-py3-none-any.whl (297 kB)\n",
      "\u001b[K     |████████████████████████████████| 297 kB 98.2 MB/s eta 0:00:01\n",
      "\u001b[?25hCollecting threadpoolctl>=2.0.0\n",
      "  Downloading threadpoolctl-3.1.0-py3-none-any.whl (14 kB)\n",
      "Requirement already satisfied: numpy>=1.17.3 in /home/studio-lab-user/.conda/envs/default/lib/python3.9/site-packages (from scikit-learn->sklearn) (1.22.1)\n",
      "Building wheels for collected packages: sklearn\n",
      "  Building wheel for sklearn (setup.py) ... \u001b[?25ldone\n",
      "\u001b[?25h  Created wheel for sklearn: filename=sklearn-0.0-py2.py3-none-any.whl size=1309 sha256=9bfc89fd46077050a49851d01cd49f1989ccd59096b60f6df59fabdffe1d0a8c\n",
      "  Stored in directory: /home/studio-lab-user/.cache/pip/wheels/e4/7b/98/b6466d71b8d738a0c547008b9eb39bf8676d1ff6ca4b22af1c\n",
      "Successfully built sklearn\n",
      "Installing collected packages: threadpoolctl, scipy, joblib, scikit-learn, sklearn\n",
      "Successfully installed joblib-1.2.0 scikit-learn-1.1.2 scipy-1.9.2 sklearn-0.0 threadpoolctl-3.1.0\n"
     ]
    }
   ],
   "source": [
    "!pip install numpy\n",
    "!pip install pandas\n",
    "!pip install sklearn"
   ]
  },
  {
   "cell_type": "code",
   "execution_count": 1,
   "id": "25aae27c-cd06-4844-acaa-1d8fb54ca1ed",
   "metadata": {},
   "outputs": [],
   "source": [
    "import numpy as np\n",
    "import pandas as pd"
   ]
  },
  {
   "cell_type": "code",
   "execution_count": 2,
   "id": "f30bc51b-c495-4932-b08f-fe72701f93f4",
   "metadata": {},
   "outputs": [
    {
     "data": {
      "text/html": [
       "<div>\n",
       "<style scoped>\n",
       "    .dataframe tbody tr th:only-of-type {\n",
       "        vertical-align: middle;\n",
       "    }\n",
       "\n",
       "    .dataframe tbody tr th {\n",
       "        vertical-align: top;\n",
       "    }\n",
       "\n",
       "    .dataframe thead th {\n",
       "        text-align: right;\n",
       "    }\n",
       "</style>\n",
       "<table border=\"1\" class=\"dataframe\">\n",
       "  <thead>\n",
       "    <tr style=\"text-align: right;\">\n",
       "      <th></th>\n",
       "      <th>safetyreportid</th>\n",
       "      <th>primarysourcecountry</th>\n",
       "      <th>serious</th>\n",
       "      <th>seriousnessdeath</th>\n",
       "      <th>seriousnesslifethreatening</th>\n",
       "      <th>seriousnesshospitalization</th>\n",
       "      <th>seriousnessdisabling</th>\n",
       "      <th>seriousnesscongenitalanomali</th>\n",
       "      <th>seriousnessother</th>\n",
       "      <th>patientonsetage</th>\n",
       "      <th>patientonsetageunit</th>\n",
       "      <th>patientsex</th>\n",
       "      <th>reactionmeddrapt</th>\n",
       "      <th>medicinalproduct</th>\n",
       "      <th>activesubstancename</th>\n",
       "    </tr>\n",
       "  </thead>\n",
       "  <tbody>\n",
       "    <tr>\n",
       "      <th>0</th>\n",
       "      <td>20401550</td>\n",
       "      <td>US</td>\n",
       "      <td>2</td>\n",
       "      <td>2.0</td>\n",
       "      <td>2.0</td>\n",
       "      <td>2.0</td>\n",
       "      <td>2.0</td>\n",
       "      <td>2.0</td>\n",
       "      <td>2.0</td>\n",
       "      <td>43.0</td>\n",
       "      <td>801.0</td>\n",
       "      <td>2.0</td>\n",
       "      <td>Cough, Drug specific antibody present, Drug in...</td>\n",
       "      <td>HUMIRA</td>\n",
       "      <td>ADALIMUMAB</td>\n",
       "    </tr>\n",
       "    <tr>\n",
       "      <th>1</th>\n",
       "      <td>20719436</td>\n",
       "      <td>US</td>\n",
       "      <td>2</td>\n",
       "      <td>2.0</td>\n",
       "      <td>2.0</td>\n",
       "      <td>2.0</td>\n",
       "      <td>2.0</td>\n",
       "      <td>2.0</td>\n",
       "      <td>2.0</td>\n",
       "      <td>73.0</td>\n",
       "      <td>801.0</td>\n",
       "      <td>2.0</td>\n",
       "      <td>Ear infection</td>\n",
       "      <td>COSENTYX</td>\n",
       "      <td>SECUKINUMAB</td>\n",
       "    </tr>\n",
       "    <tr>\n",
       "      <th>2</th>\n",
       "      <td>20983728</td>\n",
       "      <td>US</td>\n",
       "      <td>1</td>\n",
       "      <td>2.0</td>\n",
       "      <td>2.0</td>\n",
       "      <td>2.0</td>\n",
       "      <td>2.0</td>\n",
       "      <td>2.0</td>\n",
       "      <td>1.0</td>\n",
       "      <td>26.0</td>\n",
       "      <td>801.0</td>\n",
       "      <td>2.0</td>\n",
       "      <td>Autism spectrum disorder, Mucous stools, Gastr...</td>\n",
       "      <td>DUPIXENT</td>\n",
       "      <td>DUPILUMAB</td>\n",
       "    </tr>\n",
       "    <tr>\n",
       "      <th>3</th>\n",
       "      <td>20401631</td>\n",
       "      <td>US</td>\n",
       "      <td>2</td>\n",
       "      <td>2.0</td>\n",
       "      <td>2.0</td>\n",
       "      <td>2.0</td>\n",
       "      <td>2.0</td>\n",
       "      <td>2.0</td>\n",
       "      <td>2.0</td>\n",
       "      <td>49.0</td>\n",
       "      <td>801.0</td>\n",
       "      <td>2.0</td>\n",
       "      <td>Device issue, Injury associated with device</td>\n",
       "      <td>HUMIRA</td>\n",
       "      <td>ADALIMUMAB</td>\n",
       "    </tr>\n",
       "    <tr>\n",
       "      <th>4</th>\n",
       "      <td>20719827</td>\n",
       "      <td>US</td>\n",
       "      <td>1</td>\n",
       "      <td>2.0</td>\n",
       "      <td>2.0</td>\n",
       "      <td>2.0</td>\n",
       "      <td>2.0</td>\n",
       "      <td>2.0</td>\n",
       "      <td>1.0</td>\n",
       "      <td>69.0</td>\n",
       "      <td>801.0</td>\n",
       "      <td>1.0</td>\n",
       "      <td>Colorectal cancer</td>\n",
       "      <td>ZANTAC</td>\n",
       "      <td>RANITIDINE HYDROCHLORIDE</td>\n",
       "    </tr>\n",
       "  </tbody>\n",
       "</table>\n",
       "</div>"
      ],
      "text/plain": [
       "  safetyreportid primarysourcecountry  serious  seriousnessdeath  \\\n",
       "0       20401550                   US        2               2.0   \n",
       "1       20719436                   US        2               2.0   \n",
       "2       20983728                   US        1               2.0   \n",
       "3       20401631                   US        2               2.0   \n",
       "4       20719827                   US        1               2.0   \n",
       "\n",
       "   seriousnesslifethreatening  seriousnesshospitalization  \\\n",
       "0                         2.0                         2.0   \n",
       "1                         2.0                         2.0   \n",
       "2                         2.0                         2.0   \n",
       "3                         2.0                         2.0   \n",
       "4                         2.0                         2.0   \n",
       "\n",
       "   seriousnessdisabling  seriousnesscongenitalanomali  seriousnessother  \\\n",
       "0                   2.0                           2.0               2.0   \n",
       "1                   2.0                           2.0               2.0   \n",
       "2                   2.0                           2.0               1.0   \n",
       "3                   2.0                           2.0               2.0   \n",
       "4                   2.0                           2.0               1.0   \n",
       "\n",
       "   patientonsetage  patientonsetageunit  patientsex  \\\n",
       "0             43.0                801.0         2.0   \n",
       "1             73.0                801.0         2.0   \n",
       "2             26.0                801.0         2.0   \n",
       "3             49.0                801.0         2.0   \n",
       "4             69.0                801.0         1.0   \n",
       "\n",
       "                                    reactionmeddrapt medicinalproduct  \\\n",
       "0  Cough, Drug specific antibody present, Drug in...           HUMIRA   \n",
       "1                                      Ear infection         COSENTYX   \n",
       "2  Autism spectrum disorder, Mucous stools, Gastr...         DUPIXENT   \n",
       "3        Device issue, Injury associated with device           HUMIRA   \n",
       "4                                  Colorectal cancer           ZANTAC   \n",
       "\n",
       "        activesubstancename  \n",
       "0                ADALIMUMAB  \n",
       "1               SECUKINUMAB  \n",
       "2                 DUPILUMAB  \n",
       "3                ADALIMUMAB  \n",
       "4  RANITIDINE HYDROCHLORIDE  "
      ]
     },
     "execution_count": 2,
     "metadata": {},
     "output_type": "execute_result"
    }
   ],
   "source": [
    "df = pd.read_csv(\"drug-adverse-effect.csv\")\n",
    "df.head()"
   ]
  },
  {
   "cell_type": "code",
   "execution_count": 3,
   "id": "0f093ec6-15f8-49cf-9ba6-6d1039a936e0",
   "metadata": {},
   "outputs": [
    {
     "data": {
      "text/html": [
       "<div>\n",
       "<style scoped>\n",
       "    .dataframe tbody tr th:only-of-type {\n",
       "        vertical-align: middle;\n",
       "    }\n",
       "\n",
       "    .dataframe tbody tr th {\n",
       "        vertical-align: top;\n",
       "    }\n",
       "\n",
       "    .dataframe thead th {\n",
       "        text-align: right;\n",
       "    }\n",
       "</style>\n",
       "<table border=\"1\" class=\"dataframe\">\n",
       "  <thead>\n",
       "    <tr style=\"text-align: right;\">\n",
       "      <th></th>\n",
       "      <th>serious</th>\n",
       "      <th>seriousnessdeath</th>\n",
       "      <th>seriousnesslifethreatening</th>\n",
       "      <th>seriousnesshospitalization</th>\n",
       "      <th>seriousnessdisabling</th>\n",
       "      <th>seriousnesscongenitalanomali</th>\n",
       "      <th>seriousnessother</th>\n",
       "      <th>patientonsetage</th>\n",
       "      <th>patientonsetageunit</th>\n",
       "      <th>patientsex</th>\n",
       "    </tr>\n",
       "  </thead>\n",
       "  <tbody>\n",
       "    <tr>\n",
       "      <th>count</th>\n",
       "      <td>12000.000000</td>\n",
       "      <td>11476.000000</td>\n",
       "      <td>11456.000000</td>\n",
       "      <td>11580.000000</td>\n",
       "      <td>11416.000000</td>\n",
       "      <td>11420.000000</td>\n",
       "      <td>11666.000000</td>\n",
       "      <td>6894.000000</td>\n",
       "      <td>6893.000000</td>\n",
       "      <td>10368.00000</td>\n",
       "    </tr>\n",
       "    <tr>\n",
       "      <th>mean</th>\n",
       "      <td>1.430583</td>\n",
       "      <td>1.918961</td>\n",
       "      <td>1.982804</td>\n",
       "      <td>1.840155</td>\n",
       "      <td>1.988174</td>\n",
       "      <td>1.998511</td>\n",
       "      <td>1.562661</td>\n",
       "      <td>118.922831</td>\n",
       "      <td>801.006383</td>\n",
       "      <td>1.59973</td>\n",
       "    </tr>\n",
       "    <tr>\n",
       "      <th>std</th>\n",
       "      <td>0.495179</td>\n",
       "      <td>0.272906</td>\n",
       "      <td>0.130008</td>\n",
       "      <td>0.366478</td>\n",
       "      <td>0.108105</td>\n",
       "      <td>0.038556</td>\n",
       "      <td>0.496079</td>\n",
       "      <td>1262.466732</td>\n",
       "      <td>0.230357</td>\n",
       "      <td>0.49037</td>\n",
       "    </tr>\n",
       "    <tr>\n",
       "      <th>min</th>\n",
       "      <td>1.000000</td>\n",
       "      <td>1.000000</td>\n",
       "      <td>1.000000</td>\n",
       "      <td>1.000000</td>\n",
       "      <td>1.000000</td>\n",
       "      <td>1.000000</td>\n",
       "      <td>1.000000</td>\n",
       "      <td>0.000000</td>\n",
       "      <td>800.000000</td>\n",
       "      <td>0.00000</td>\n",
       "    </tr>\n",
       "    <tr>\n",
       "      <th>25%</th>\n",
       "      <td>1.000000</td>\n",
       "      <td>2.000000</td>\n",
       "      <td>2.000000</td>\n",
       "      <td>2.000000</td>\n",
       "      <td>2.000000</td>\n",
       "      <td>2.000000</td>\n",
       "      <td>1.000000</td>\n",
       "      <td>44.000000</td>\n",
       "      <td>801.000000</td>\n",
       "      <td>1.00000</td>\n",
       "    </tr>\n",
       "    <tr>\n",
       "      <th>50%</th>\n",
       "      <td>1.000000</td>\n",
       "      <td>2.000000</td>\n",
       "      <td>2.000000</td>\n",
       "      <td>2.000000</td>\n",
       "      <td>2.000000</td>\n",
       "      <td>2.000000</td>\n",
       "      <td>2.000000</td>\n",
       "      <td>58.000000</td>\n",
       "      <td>801.000000</td>\n",
       "      <td>2.00000</td>\n",
       "    </tr>\n",
       "    <tr>\n",
       "      <th>75%</th>\n",
       "      <td>2.000000</td>\n",
       "      <td>2.000000</td>\n",
       "      <td>2.000000</td>\n",
       "      <td>2.000000</td>\n",
       "      <td>2.000000</td>\n",
       "      <td>2.000000</td>\n",
       "      <td>2.000000</td>\n",
       "      <td>69.000000</td>\n",
       "      <td>801.000000</td>\n",
       "      <td>2.00000</td>\n",
       "    </tr>\n",
       "    <tr>\n",
       "      <th>max</th>\n",
       "      <td>2.000000</td>\n",
       "      <td>2.000000</td>\n",
       "      <td>2.000000</td>\n",
       "      <td>2.000000</td>\n",
       "      <td>2.000000</td>\n",
       "      <td>2.000000</td>\n",
       "      <td>2.000000</td>\n",
       "      <td>33649.000000</td>\n",
       "      <td>804.000000</td>\n",
       "      <td>2.00000</td>\n",
       "    </tr>\n",
       "  </tbody>\n",
       "</table>\n",
       "</div>"
      ],
      "text/plain": [
       "            serious  seriousnessdeath  seriousnesslifethreatening  \\\n",
       "count  12000.000000      11476.000000                11456.000000   \n",
       "mean       1.430583          1.918961                    1.982804   \n",
       "std        0.495179          0.272906                    0.130008   \n",
       "min        1.000000          1.000000                    1.000000   \n",
       "25%        1.000000          2.000000                    2.000000   \n",
       "50%        1.000000          2.000000                    2.000000   \n",
       "75%        2.000000          2.000000                    2.000000   \n",
       "max        2.000000          2.000000                    2.000000   \n",
       "\n",
       "       seriousnesshospitalization  seriousnessdisabling  \\\n",
       "count                11580.000000          11416.000000   \n",
       "mean                     1.840155              1.988174   \n",
       "std                      0.366478              0.108105   \n",
       "min                      1.000000              1.000000   \n",
       "25%                      2.000000              2.000000   \n",
       "50%                      2.000000              2.000000   \n",
       "75%                      2.000000              2.000000   \n",
       "max                      2.000000              2.000000   \n",
       "\n",
       "       seriousnesscongenitalanomali  seriousnessother  patientonsetage  \\\n",
       "count                  11420.000000      11666.000000      6894.000000   \n",
       "mean                       1.998511          1.562661       118.922831   \n",
       "std                        0.038556          0.496079      1262.466732   \n",
       "min                        1.000000          1.000000         0.000000   \n",
       "25%                        2.000000          1.000000        44.000000   \n",
       "50%                        2.000000          2.000000        58.000000   \n",
       "75%                        2.000000          2.000000        69.000000   \n",
       "max                        2.000000          2.000000     33649.000000   \n",
       "\n",
       "       patientonsetageunit   patientsex  \n",
       "count          6893.000000  10368.00000  \n",
       "mean            801.006383      1.59973  \n",
       "std               0.230357      0.49037  \n",
       "min             800.000000      0.00000  \n",
       "25%             801.000000      1.00000  \n",
       "50%             801.000000      2.00000  \n",
       "75%             801.000000      2.00000  \n",
       "max             804.000000      2.00000  "
      ]
     },
     "execution_count": 3,
     "metadata": {},
     "output_type": "execute_result"
    }
   ],
   "source": [
    "df.describe()"
   ]
  },
  {
   "cell_type": "code",
   "execution_count": 4,
   "id": "3e07207d-6d87-45e6-aa7c-5c6e57b61532",
   "metadata": {},
   "outputs": [
    {
     "data": {
      "text/plain": [
       "(12000, 15)"
      ]
     },
     "execution_count": 4,
     "metadata": {},
     "output_type": "execute_result"
    }
   ],
   "source": [
    "df.shape"
   ]
  },
  {
   "cell_type": "code",
   "execution_count": 5,
   "id": "925a98e8-a2fa-400b-ba90-374c3b84def4",
   "metadata": {},
   "outputs": [
    {
     "data": {
      "text/plain": [
       "safetyreportid                     0\n",
       "primarysourcecountry             107\n",
       "serious                            0\n",
       "seriousnessdeath                 524\n",
       "seriousnesslifethreatening       544\n",
       "seriousnesshospitalization       420\n",
       "seriousnessdisabling             584\n",
       "seriousnesscongenitalanomali     580\n",
       "seriousnessother                 334\n",
       "patientonsetage                 5106\n",
       "patientonsetageunit             5107\n",
       "patientsex                      1632\n",
       "reactionmeddrapt                   0\n",
       "medicinalproduct                   0\n",
       "activesubstancename               41\n",
       "dtype: int64"
      ]
     },
     "execution_count": 5,
     "metadata": {},
     "output_type": "execute_result"
    }
   ],
   "source": [
    "df.isna().sum()"
   ]
  },
  {
   "cell_type": "code",
   "execution_count": 6,
   "id": "0aa61c7b-bb5e-444a-b3d3-84e6213bc1eb",
   "metadata": {},
   "outputs": [],
   "source": [
    "new_df = df[[\"safetyreportid\", \"patientonsetage\", \"patientsex\", \"medicinalproduct\", \"activesubstancename\", \"reactionmeddrapt\"]].copy()"
   ]
  },
  {
   "cell_type": "code",
   "execution_count": 7,
   "id": "b52d737c-6ed2-4267-a865-d700b8a2392a",
   "metadata": {},
   "outputs": [
    {
     "data": {
      "text/html": [
       "<div>\n",
       "<style scoped>\n",
       "    .dataframe tbody tr th:only-of-type {\n",
       "        vertical-align: middle;\n",
       "    }\n",
       "\n",
       "    .dataframe tbody tr th {\n",
       "        vertical-align: top;\n",
       "    }\n",
       "\n",
       "    .dataframe thead th {\n",
       "        text-align: right;\n",
       "    }\n",
       "</style>\n",
       "<table border=\"1\" class=\"dataframe\">\n",
       "  <thead>\n",
       "    <tr style=\"text-align: right;\">\n",
       "      <th></th>\n",
       "      <th>safetyreportid</th>\n",
       "      <th>patientonsetage</th>\n",
       "      <th>patientsex</th>\n",
       "      <th>medicinalproduct</th>\n",
       "      <th>activesubstancename</th>\n",
       "      <th>reactionmeddrapt</th>\n",
       "    </tr>\n",
       "  </thead>\n",
       "  <tbody>\n",
       "    <tr>\n",
       "      <th>0</th>\n",
       "      <td>20401550</td>\n",
       "      <td>43.0</td>\n",
       "      <td>2.0</td>\n",
       "      <td>HUMIRA</td>\n",
       "      <td>ADALIMUMAB</td>\n",
       "      <td>Cough, Drug specific antibody present, Drug in...</td>\n",
       "    </tr>\n",
       "    <tr>\n",
       "      <th>1</th>\n",
       "      <td>20719436</td>\n",
       "      <td>73.0</td>\n",
       "      <td>2.0</td>\n",
       "      <td>COSENTYX</td>\n",
       "      <td>SECUKINUMAB</td>\n",
       "      <td>Ear infection</td>\n",
       "    </tr>\n",
       "    <tr>\n",
       "      <th>2</th>\n",
       "      <td>20983728</td>\n",
       "      <td>26.0</td>\n",
       "      <td>2.0</td>\n",
       "      <td>DUPIXENT</td>\n",
       "      <td>DUPILUMAB</td>\n",
       "      <td>Autism spectrum disorder, Mucous stools, Gastr...</td>\n",
       "    </tr>\n",
       "    <tr>\n",
       "      <th>3</th>\n",
       "      <td>20401631</td>\n",
       "      <td>49.0</td>\n",
       "      <td>2.0</td>\n",
       "      <td>HUMIRA</td>\n",
       "      <td>ADALIMUMAB</td>\n",
       "      <td>Device issue, Injury associated with device</td>\n",
       "    </tr>\n",
       "    <tr>\n",
       "      <th>4</th>\n",
       "      <td>20719827</td>\n",
       "      <td>69.0</td>\n",
       "      <td>1.0</td>\n",
       "      <td>ZANTAC</td>\n",
       "      <td>RANITIDINE HYDROCHLORIDE</td>\n",
       "      <td>Colorectal cancer</td>\n",
       "    </tr>\n",
       "  </tbody>\n",
       "</table>\n",
       "</div>"
      ],
      "text/plain": [
       "  safetyreportid  patientonsetage  patientsex medicinalproduct  \\\n",
       "0       20401550             43.0         2.0           HUMIRA   \n",
       "1       20719436             73.0         2.0         COSENTYX   \n",
       "2       20983728             26.0         2.0         DUPIXENT   \n",
       "3       20401631             49.0         2.0           HUMIRA   \n",
       "4       20719827             69.0         1.0           ZANTAC   \n",
       "\n",
       "        activesubstancename                                   reactionmeddrapt  \n",
       "0                ADALIMUMAB  Cough, Drug specific antibody present, Drug in...  \n",
       "1               SECUKINUMAB                                      Ear infection  \n",
       "2                 DUPILUMAB  Autism spectrum disorder, Mucous stools, Gastr...  \n",
       "3                ADALIMUMAB        Device issue, Injury associated with device  \n",
       "4  RANITIDINE HYDROCHLORIDE                                  Colorectal cancer  "
      ]
     },
     "execution_count": 7,
     "metadata": {},
     "output_type": "execute_result"
    }
   ],
   "source": [
    "new_df.head()"
   ]
  },
  {
   "cell_type": "code",
   "execution_count": 8,
   "id": "c295c173-22d1-4b01-932b-0fa248e965b3",
   "metadata": {},
   "outputs": [
    {
     "data": {
      "text/plain": [
       "safetyreportid            0\n",
       "patientonsetage        5106\n",
       "patientsex             1632\n",
       "medicinalproduct          0\n",
       "activesubstancename      41\n",
       "reactionmeddrapt          0\n",
       "dtype: int64"
      ]
     },
     "execution_count": 8,
     "metadata": {},
     "output_type": "execute_result"
    }
   ],
   "source": [
    "new_df.isna().sum()"
   ]
  },
  {
   "cell_type": "code",
   "execution_count": 9,
   "id": "530f4345-a298-4c1d-9f0d-7c5341e8e026",
   "metadata": {},
   "outputs": [],
   "source": [
    "mean = new_df[\"patientonsetage\"].mean()\n",
    "new_df[\"patientonsetage\"].fillna(value=mean, inplace=True)"
   ]
  },
  {
   "cell_type": "code",
   "execution_count": 10,
   "id": "4d329567-10a2-4ef7-93eb-706596967e11",
   "metadata": {},
   "outputs": [],
   "source": [
    "new_df.dropna(inplace=True)"
   ]
  },
  {
   "cell_type": "code",
   "execution_count": 11,
   "id": "38686f76-c5fe-4f0b-971e-a3fc1ba781ea",
   "metadata": {},
   "outputs": [
    {
     "data": {
      "text/plain": [
       "safetyreportid         0\n",
       "patientonsetage        0\n",
       "patientsex             0\n",
       "medicinalproduct       0\n",
       "activesubstancename    0\n",
       "reactionmeddrapt       0\n",
       "dtype: int64"
      ]
     },
     "execution_count": 11,
     "metadata": {},
     "output_type": "execute_result"
    }
   ],
   "source": [
    "new_df.isna().sum()"
   ]
  },
  {
   "cell_type": "code",
   "execution_count": 12,
   "id": "e0f5ab95-0060-44a4-872f-b489f95b1ee7",
   "metadata": {},
   "outputs": [
    {
     "data": {
      "text/plain": [
       "(10336, 6)"
      ]
     },
     "execution_count": 12,
     "metadata": {},
     "output_type": "execute_result"
    }
   ],
   "source": [
    "new_df.shape"
   ]
  },
  {
   "cell_type": "code",
   "execution_count": 148,
   "id": "a2360949-5546-45e5-89de-6806aee07774",
   "metadata": {},
   "outputs": [],
   "source": [
    "reaction = dict()\n",
    "for effect in new_df['reactionmeddrapt']:\n",
    "    for r in effect.split(\", \"):\n",
    "        if reaction.get(r.lower()):\n",
    "            reaction[r.lower()]+=1\n",
    "        else:\n",
    "            reaction[r.lower()]=1"
   ]
  },
  {
   "cell_type": "code",
   "execution_count": 149,
   "id": "100f6783-60c4-40b7-bdb8-851b19629231",
   "metadata": {},
   "outputs": [],
   "source": [
    "reactionList = {}\n",
    "i = 1\n",
    "for (k,v) in reaction.items():\n",
    "    if(v>=80):\n",
    "        reactionList[k] = i\n",
    "        i+=1\n",
    "reactionList[\"others\"] = i"
   ]
  },
  {
   "cell_type": "code",
   "execution_count": 150,
   "id": "d4b8789e-fa08-4a30-a292-66eeafd09961",
   "metadata": {},
   "outputs": [
    {
     "data": {
      "text/plain": [
       "61"
      ]
     },
     "execution_count": 150,
     "metadata": {},
     "output_type": "execute_result"
    }
   ],
   "source": [
    "len(reactionList)"
   ]
  },
  {
   "cell_type": "code",
   "execution_count": 151,
   "id": "d6c04483-e3c7-4f44-a36b-b75d0911d12a",
   "metadata": {},
   "outputs": [],
   "source": [
    "drug = dict()\n",
    "for med in new_df['medicinalproduct']:\n",
    "    for m in med.split(\", \"):\n",
    "        if drug.get(m.lower()):\n",
    "            drug[m.lower()]+=1\n",
    "        else:\n",
    "            drug[m.lower()]=1"
   ]
  },
  {
   "cell_type": "code",
   "execution_count": 152,
   "id": "f8c3fb5c-b48b-445b-91a7-0866f18ec2e7",
   "metadata": {},
   "outputs": [],
   "source": [
    "drugList = {}\n",
    "i = 1\n",
    "for (k,v) in drug.items():\n",
    "    if(v>=70):\n",
    "        drugList[k] = i \n",
    "        i+=1\n",
    "drugList[\"others\"] = i"
   ]
  },
  {
   "cell_type": "code",
   "execution_count": 153,
   "id": "be17c93b-a43b-476f-80b1-9246835bcffb",
   "metadata": {},
   "outputs": [
    {
     "name": "stdout",
     "output_type": "stream",
     "text": [
      "29\n"
     ]
    }
   ],
   "source": [
    "print(len(drugList))"
   ]
  },
  {
   "cell_type": "code",
   "execution_count": 154,
   "id": "40dd31b5-e6d4-4464-ba3e-150b840ceff4",
   "metadata": {},
   "outputs": [
    {
     "name": "stdout",
     "output_type": "stream",
     "text": [
      "{'humira': 1, 'cosentyx': 2, 'dupixent': 3, 'zantac': 4, 'prednisone': 5, 'pomalyst': 6, 'orencia': 7, 'methotrexate': 8, 'cimzia': 9, 'remicade': 10, 'rinvoq': 11, 'trulicity': 12, 'gilenya': 13, 'aspirin': 14, 'lantus solostar': 15, 'moderna covid-19 vaccine': 16, 'opsumit': 17, 'eliquis': 18, 'ibrance': 19, 'eligard': 20, 'pfizer-biontech covid-19 vaccine': 21, 'oxycontin': 22, 'letrozole': 23, 'esbriet': 24, 'vedolizumab': 25, 'entresto': 26, 'neulasta': 27, 'cabometyx': 28, 'others': 29}\n"
     ]
    }
   ],
   "source": [
    "print(drugList)"
   ]
  },
  {
   "cell_type": "code",
   "execution_count": 169,
   "id": "79b66277-e2e5-46a4-bbd2-4ce9f2a89629",
   "metadata": {},
   "outputs": [
    {
     "name": "stdout",
     "output_type": "stream",
     "text": [
      "{'cough': 1, 'drug ineffective': 2, 'nasopharyngitis': 3, 'product use issue': 4, 'device issue': 5, 'colorectal cancer': 6, 'headache': 7, 'decreased appetite': 8, 'pyrexia': 9, 'nausea': 10, 'pain in extremity': 11, 'alopecia': 12, 'fatigue': 13, 'diarrhoea': 14, 'incorrect dose administered': 15, 'injection site pain': 16, 'wrong technique in product usage process': 17, 'prostate cancer': 18, 'dizziness': 19, 'product use in unapproved indication': 20, 'injection site haemorrhage': 21, 'back pain': 22, 'insomnia': 23, 'asthenia': 24, 'abdominal discomfort': 25, 'hypertension': 26, 'off label use': 27, 'rash': 28, 'pain': 29, 'malaise': 30, 'arthralgia': 31, 'cerebrovascular accident': 32, 'product dose omission issue': 33, 'drug dependence': 34, 'death': 35, 'abdominal pain upper': 36, 'constipation': 37, 'hospitalisation': 38, 'covid-19': 39, 'condition aggravated': 40, 'pruritus': 41, 'vomiting': 42, 'therapy interrupted': 43, 'dyspnoea': 44, 'anxiety': 45, 'weight increased': 46, 'inappropriate schedule of product administration': 47, 'feeling abnormal': 48, 'emotional distress': 49, 'illness': 50, 'fall': 51, 'urinary tract infection': 52, 'pneumonia': 53, 'visual impairment': 54, 'bladder cancer': 55, 'gait disturbance': 56, 'renal cancer': 57, 'weight decreased': 58, 'peripheral swelling': 59, 'no adverse event': 60, 'others': 61}\n"
     ]
    }
   ],
   "source": [
    "print(reactionList)"
   ]
  },
  {
   "cell_type": "code",
   "execution_count": 155,
   "id": "618de729-0a50-42cf-9de4-4395c026e3d1",
   "metadata": {},
   "outputs": [],
   "source": [
    "reactiondict = {key: [0]*len(new_df) for key in reactionList.keys()}\n",
    "for i, effect in enumerate(new_df[\"reactionmeddrapt\"]):\n",
    "    reactions = effect.split(\", \")\n",
    "    found = False\n",
    "    for k in reactions:\n",
    "        if k.lower() in reactionList.keys():\n",
    "            reactiondict[k.lower()][i] = 1\n",
    "            found = True\n",
    "    if not found:\n",
    "        reactiondict[\"others\"][i] = 1"
   ]
  },
  {
   "cell_type": "code",
   "execution_count": 156,
   "id": "1c2c6cf3-ad1a-4119-b7a8-ad40e98a4c2e",
   "metadata": {},
   "outputs": [
    {
     "name": "stdout",
     "output_type": "stream",
     "text": [
      "4476\n"
     ]
    }
   ],
   "source": [
    "print(sum(reactiondict[\"others\"]))"
   ]
  },
  {
   "cell_type": "code",
   "execution_count": 157,
   "id": "108b1dbf-1a47-4d11-9d0b-9515ad3a5725",
   "metadata": {},
   "outputs": [],
   "source": [
    "drugdict = {key: [0]*len(new_df) for key in drugList.keys()}\n",
    "for i, drug in enumerate(new_df[\"medicinalproduct\"]):\n",
    "    drugs = drug.split(\", \")\n",
    "    found = False\n",
    "    for k in drugs:\n",
    "        if k.lower() in drugList.keys():\n",
    "            drugdict[k.lower()][i] = 1\n",
    "            found = True\n",
    "    if not found:\n",
    "        drugdict[\"others\"][i] = 1"
   ]
  },
  {
   "cell_type": "code",
   "execution_count": 158,
   "id": "1159d235-a793-47f7-9d26-827e15c2614a",
   "metadata": {},
   "outputs": [
    {
     "name": "stdout",
     "output_type": "stream",
     "text": [
      "5028\n"
     ]
    }
   ],
   "source": [
    "print(sum(drugdict[\"others\"]))"
   ]
  },
  {
   "cell_type": "code",
   "execution_count": 159,
   "id": "f545f53d-a686-4984-bd29-a27e971d2f61",
   "metadata": {},
   "outputs": [],
   "source": [
    "for k,v in drugdict.items():\n",
    "    new_df[k] = v"
   ]
  },
  {
   "cell_type": "code",
   "execution_count": 160,
   "id": "55068ada-c78c-4f5b-b890-0f01d0c84366",
   "metadata": {},
   "outputs": [],
   "source": [
    "X = new_df.drop([\"safetyreportid\", \"medicinalproduct\", \"activesubstancename\", \"reactionmeddrapt\"], axis=1)"
   ]
  },
  {
   "cell_type": "code",
   "execution_count": 161,
   "id": "267da0ca-0a4b-4295-930e-26eb26614c9e",
   "metadata": {},
   "outputs": [
    {
     "data": {
      "text/html": [
       "<div>\n",
       "<style scoped>\n",
       "    .dataframe tbody tr th:only-of-type {\n",
       "        vertical-align: middle;\n",
       "    }\n",
       "\n",
       "    .dataframe tbody tr th {\n",
       "        vertical-align: top;\n",
       "    }\n",
       "\n",
       "    .dataframe thead th {\n",
       "        text-align: right;\n",
       "    }\n",
       "</style>\n",
       "<table border=\"1\" class=\"dataframe\">\n",
       "  <thead>\n",
       "    <tr style=\"text-align: right;\">\n",
       "      <th></th>\n",
       "      <th>patientonsetage</th>\n",
       "      <th>patientsex</th>\n",
       "      <th>humira</th>\n",
       "      <th>cosentyx</th>\n",
       "      <th>dupixent</th>\n",
       "      <th>zantac</th>\n",
       "      <th>opdivo</th>\n",
       "      <th>prednisone</th>\n",
       "      <th>pantoprazole</th>\n",
       "      <th>pomalyst</th>\n",
       "      <th>...</th>\n",
       "      <th>entresto</th>\n",
       "      <th>nexplanon</th>\n",
       "      <th>nivolumab</th>\n",
       "      <th>neulasta</th>\n",
       "      <th>metoprolol</th>\n",
       "      <th>fulvestrant</th>\n",
       "      <th>ayvakit</th>\n",
       "      <th>tymlos</th>\n",
       "      <th>cabometyx</th>\n",
       "      <th>others</th>\n",
       "    </tr>\n",
       "  </thead>\n",
       "  <tbody>\n",
       "    <tr>\n",
       "      <th>0</th>\n",
       "      <td>43.0</td>\n",
       "      <td>2.0</td>\n",
       "      <td>1</td>\n",
       "      <td>0</td>\n",
       "      <td>0</td>\n",
       "      <td>0</td>\n",
       "      <td>0</td>\n",
       "      <td>0</td>\n",
       "      <td>0</td>\n",
       "      <td>0</td>\n",
       "      <td>...</td>\n",
       "      <td>0</td>\n",
       "      <td>0</td>\n",
       "      <td>0</td>\n",
       "      <td>0</td>\n",
       "      <td>0</td>\n",
       "      <td>0</td>\n",
       "      <td>0</td>\n",
       "      <td>0</td>\n",
       "      <td>0</td>\n",
       "      <td>0</td>\n",
       "    </tr>\n",
       "    <tr>\n",
       "      <th>1</th>\n",
       "      <td>73.0</td>\n",
       "      <td>2.0</td>\n",
       "      <td>0</td>\n",
       "      <td>1</td>\n",
       "      <td>0</td>\n",
       "      <td>0</td>\n",
       "      <td>0</td>\n",
       "      <td>0</td>\n",
       "      <td>0</td>\n",
       "      <td>0</td>\n",
       "      <td>...</td>\n",
       "      <td>0</td>\n",
       "      <td>0</td>\n",
       "      <td>0</td>\n",
       "      <td>0</td>\n",
       "      <td>0</td>\n",
       "      <td>0</td>\n",
       "      <td>0</td>\n",
       "      <td>0</td>\n",
       "      <td>0</td>\n",
       "      <td>0</td>\n",
       "    </tr>\n",
       "    <tr>\n",
       "      <th>2</th>\n",
       "      <td>26.0</td>\n",
       "      <td>2.0</td>\n",
       "      <td>0</td>\n",
       "      <td>0</td>\n",
       "      <td>1</td>\n",
       "      <td>0</td>\n",
       "      <td>0</td>\n",
       "      <td>0</td>\n",
       "      <td>0</td>\n",
       "      <td>0</td>\n",
       "      <td>...</td>\n",
       "      <td>0</td>\n",
       "      <td>0</td>\n",
       "      <td>0</td>\n",
       "      <td>0</td>\n",
       "      <td>0</td>\n",
       "      <td>0</td>\n",
       "      <td>0</td>\n",
       "      <td>0</td>\n",
       "      <td>0</td>\n",
       "      <td>0</td>\n",
       "    </tr>\n",
       "    <tr>\n",
       "      <th>3</th>\n",
       "      <td>49.0</td>\n",
       "      <td>2.0</td>\n",
       "      <td>1</td>\n",
       "      <td>0</td>\n",
       "      <td>0</td>\n",
       "      <td>0</td>\n",
       "      <td>0</td>\n",
       "      <td>0</td>\n",
       "      <td>0</td>\n",
       "      <td>0</td>\n",
       "      <td>...</td>\n",
       "      <td>0</td>\n",
       "      <td>0</td>\n",
       "      <td>0</td>\n",
       "      <td>0</td>\n",
       "      <td>0</td>\n",
       "      <td>0</td>\n",
       "      <td>0</td>\n",
       "      <td>0</td>\n",
       "      <td>0</td>\n",
       "      <td>0</td>\n",
       "    </tr>\n",
       "    <tr>\n",
       "      <th>4</th>\n",
       "      <td>69.0</td>\n",
       "      <td>1.0</td>\n",
       "      <td>0</td>\n",
       "      <td>0</td>\n",
       "      <td>0</td>\n",
       "      <td>1</td>\n",
       "      <td>0</td>\n",
       "      <td>0</td>\n",
       "      <td>0</td>\n",
       "      <td>0</td>\n",
       "      <td>...</td>\n",
       "      <td>0</td>\n",
       "      <td>0</td>\n",
       "      <td>0</td>\n",
       "      <td>0</td>\n",
       "      <td>0</td>\n",
       "      <td>0</td>\n",
       "      <td>0</td>\n",
       "      <td>0</td>\n",
       "      <td>0</td>\n",
       "      <td>0</td>\n",
       "    </tr>\n",
       "  </tbody>\n",
       "</table>\n",
       "<p>5 rows × 78 columns</p>\n",
       "</div>"
      ],
      "text/plain": [
       "   patientonsetage  patientsex  humira  cosentyx  dupixent  zantac  opdivo  \\\n",
       "0             43.0         2.0       1         0         0       0       0   \n",
       "1             73.0         2.0       0         1         0       0       0   \n",
       "2             26.0         2.0       0         0         1       0       0   \n",
       "3             49.0         2.0       1         0         0       0       0   \n",
       "4             69.0         1.0       0         0         0       1       0   \n",
       "\n",
       "   prednisone  pantoprazole  pomalyst  ...  entresto  nexplanon  nivolumab  \\\n",
       "0           0             0         0  ...         0          0          0   \n",
       "1           0             0         0  ...         0          0          0   \n",
       "2           0             0         0  ...         0          0          0   \n",
       "3           0             0         0  ...         0          0          0   \n",
       "4           0             0         0  ...         0          0          0   \n",
       "\n",
       "   neulasta  metoprolol  fulvestrant  ayvakit  tymlos  cabometyx  others  \n",
       "0         0           0            0        0       0          0       0  \n",
       "1         0           0            0        0       0          0       0  \n",
       "2         0           0            0        0       0          0       0  \n",
       "3         0           0            0        0       0          0       0  \n",
       "4         0           0            0        0       0          0       0  \n",
       "\n",
       "[5 rows x 78 columns]"
      ]
     },
     "execution_count": 161,
     "metadata": {},
     "output_type": "execute_result"
    }
   ],
   "source": [
    "X.head()"
   ]
  },
  {
   "cell_type": "code",
   "execution_count": 162,
   "id": "bab4f4c4-fe10-40d4-a762-66f6268c2596",
   "metadata": {},
   "outputs": [],
   "source": [
    "y = pd.DataFrame(reactiondict)"
   ]
  },
  {
   "cell_type": "code",
   "execution_count": 113,
   "id": "8ff38be6-94ee-47e6-9951-a74ec403630a",
   "metadata": {},
   "outputs": [
    {
     "data": {
      "text/html": [
       "<div>\n",
       "<style scoped>\n",
       "    .dataframe tbody tr th:only-of-type {\n",
       "        vertical-align: middle;\n",
       "    }\n",
       "\n",
       "    .dataframe tbody tr th {\n",
       "        vertical-align: top;\n",
       "    }\n",
       "\n",
       "    .dataframe thead th {\n",
       "        text-align: right;\n",
       "    }\n",
       "</style>\n",
       "<table border=\"1\" class=\"dataframe\">\n",
       "  <thead>\n",
       "    <tr style=\"text-align: right;\">\n",
       "      <th></th>\n",
       "      <th>cough</th>\n",
       "      <th>drug ineffective</th>\n",
       "      <th>nasopharyngitis</th>\n",
       "      <th>product use issue</th>\n",
       "      <th>device issue</th>\n",
       "      <th>colorectal cancer</th>\n",
       "      <th>headache</th>\n",
       "      <th>decreased appetite</th>\n",
       "      <th>pyrexia</th>\n",
       "      <th>nausea</th>\n",
       "      <th>...</th>\n",
       "      <th>weight decreased</th>\n",
       "      <th>breast cancer female</th>\n",
       "      <th>peripheral swelling</th>\n",
       "      <th>muscle spasms</th>\n",
       "      <th>hypotension</th>\n",
       "      <th>abdominal pain</th>\n",
       "      <th>no adverse event</th>\n",
       "      <th>breast cancer stage i</th>\n",
       "      <th>oesophageal carcinoma</th>\n",
       "      <th>others</th>\n",
       "    </tr>\n",
       "  </thead>\n",
       "  <tbody>\n",
       "    <tr>\n",
       "      <th>0</th>\n",
       "      <td>1</td>\n",
       "      <td>1</td>\n",
       "      <td>1</td>\n",
       "      <td>0</td>\n",
       "      <td>0</td>\n",
       "      <td>0</td>\n",
       "      <td>0</td>\n",
       "      <td>0</td>\n",
       "      <td>0</td>\n",
       "      <td>0</td>\n",
       "      <td>...</td>\n",
       "      <td>0</td>\n",
       "      <td>0</td>\n",
       "      <td>0</td>\n",
       "      <td>0</td>\n",
       "      <td>0</td>\n",
       "      <td>0</td>\n",
       "      <td>0</td>\n",
       "      <td>0</td>\n",
       "      <td>0</td>\n",
       "      <td>0</td>\n",
       "    </tr>\n",
       "    <tr>\n",
       "      <th>1</th>\n",
       "      <td>0</td>\n",
       "      <td>0</td>\n",
       "      <td>0</td>\n",
       "      <td>0</td>\n",
       "      <td>0</td>\n",
       "      <td>0</td>\n",
       "      <td>0</td>\n",
       "      <td>0</td>\n",
       "      <td>0</td>\n",
       "      <td>0</td>\n",
       "      <td>...</td>\n",
       "      <td>0</td>\n",
       "      <td>0</td>\n",
       "      <td>0</td>\n",
       "      <td>0</td>\n",
       "      <td>0</td>\n",
       "      <td>0</td>\n",
       "      <td>0</td>\n",
       "      <td>0</td>\n",
       "      <td>0</td>\n",
       "      <td>1</td>\n",
       "    </tr>\n",
       "    <tr>\n",
       "      <th>2</th>\n",
       "      <td>0</td>\n",
       "      <td>0</td>\n",
       "      <td>0</td>\n",
       "      <td>1</td>\n",
       "      <td>0</td>\n",
       "      <td>0</td>\n",
       "      <td>0</td>\n",
       "      <td>0</td>\n",
       "      <td>0</td>\n",
       "      <td>0</td>\n",
       "      <td>...</td>\n",
       "      <td>0</td>\n",
       "      <td>0</td>\n",
       "      <td>0</td>\n",
       "      <td>0</td>\n",
       "      <td>0</td>\n",
       "      <td>0</td>\n",
       "      <td>0</td>\n",
       "      <td>0</td>\n",
       "      <td>0</td>\n",
       "      <td>0</td>\n",
       "    </tr>\n",
       "    <tr>\n",
       "      <th>3</th>\n",
       "      <td>0</td>\n",
       "      <td>0</td>\n",
       "      <td>0</td>\n",
       "      <td>0</td>\n",
       "      <td>1</td>\n",
       "      <td>0</td>\n",
       "      <td>0</td>\n",
       "      <td>0</td>\n",
       "      <td>0</td>\n",
       "      <td>0</td>\n",
       "      <td>...</td>\n",
       "      <td>0</td>\n",
       "      <td>0</td>\n",
       "      <td>0</td>\n",
       "      <td>0</td>\n",
       "      <td>0</td>\n",
       "      <td>0</td>\n",
       "      <td>0</td>\n",
       "      <td>0</td>\n",
       "      <td>0</td>\n",
       "      <td>0</td>\n",
       "    </tr>\n",
       "    <tr>\n",
       "      <th>4</th>\n",
       "      <td>0</td>\n",
       "      <td>0</td>\n",
       "      <td>0</td>\n",
       "      <td>0</td>\n",
       "      <td>0</td>\n",
       "      <td>1</td>\n",
       "      <td>0</td>\n",
       "      <td>0</td>\n",
       "      <td>0</td>\n",
       "      <td>0</td>\n",
       "      <td>...</td>\n",
       "      <td>0</td>\n",
       "      <td>0</td>\n",
       "      <td>0</td>\n",
       "      <td>0</td>\n",
       "      <td>0</td>\n",
       "      <td>0</td>\n",
       "      <td>0</td>\n",
       "      <td>0</td>\n",
       "      <td>0</td>\n",
       "      <td>0</td>\n",
       "    </tr>\n",
       "  </tbody>\n",
       "</table>\n",
       "<p>5 rows × 93 columns</p>\n",
       "</div>"
      ],
      "text/plain": [
       "   cough  drug ineffective  nasopharyngitis  product use issue  device issue  \\\n",
       "0      1                 1                1                  0             0   \n",
       "1      0                 0                0                  0             0   \n",
       "2      0                 0                0                  1             0   \n",
       "3      0                 0                0                  0             1   \n",
       "4      0                 0                0                  0             0   \n",
       "\n",
       "   colorectal cancer  headache  decreased appetite  pyrexia  nausea  ...  \\\n",
       "0                  0         0                   0        0       0  ...   \n",
       "1                  0         0                   0        0       0  ...   \n",
       "2                  0         0                   0        0       0  ...   \n",
       "3                  0         0                   0        0       0  ...   \n",
       "4                  1         0                   0        0       0  ...   \n",
       "\n",
       "   weight decreased  breast cancer female  peripheral swelling  muscle spasms  \\\n",
       "0                 0                     0                    0              0   \n",
       "1                 0                     0                    0              0   \n",
       "2                 0                     0                    0              0   \n",
       "3                 0                     0                    0              0   \n",
       "4                 0                     0                    0              0   \n",
       "\n",
       "   hypotension  abdominal pain  no adverse event  breast cancer stage i  \\\n",
       "0            0               0                 0                      0   \n",
       "1            0               0                 0                      0   \n",
       "2            0               0                 0                      0   \n",
       "3            0               0                 0                      0   \n",
       "4            0               0                 0                      0   \n",
       "\n",
       "   oesophageal carcinoma  others  \n",
       "0                      0       0  \n",
       "1                      0       1  \n",
       "2                      0       0  \n",
       "3                      0       0  \n",
       "4                      0       0  \n",
       "\n",
       "[5 rows x 93 columns]"
      ]
     },
     "execution_count": 113,
     "metadata": {},
     "output_type": "execute_result"
    }
   ],
   "source": [
    "y.head()"
   ]
  },
  {
   "cell_type": "code",
   "execution_count": 114,
   "id": "71c90148-9242-4680-a306-6ac75a832f28",
   "metadata": {},
   "outputs": [],
   "source": [
    "from sklearn.pipeline import Pipeline\n",
    "from sklearn.feature_extraction.text import CountVectorizer\n",
    "from sklearn.feature_extraction.text import TfidfTransformer\n",
    "from sklearn.multioutput import MultiOutputClassifier\n",
    "from sklearn.ensemble import RandomForestClassifier\n",
    "from sklearn.model_selection import train_test_split\n",
    "from sklearn.metrics import precision_recall_fscore_support, accuracy_score, precision_score, recall_score\n",
    "from sklearn.neighbors import KNeighborsClassifier\n",
    "from sklearn.svm import LinearSVC\n",
    "from sklearn.naive_bayes import GaussianNB\n",
    "from sklearn.linear_model import LogisticRegression\n",
    "from sklearn.model_selection import GridSearchCV"
   ]
  },
  {
   "cell_type": "code",
   "execution_count": 115,
   "id": "cf057527-1835-4b97-9ae2-ba01ab208ff5",
   "metadata": {},
   "outputs": [],
   "source": [
    "X_train, X_test, Y_train, Y_test = train_test_split(X, y, test_size=0.2, random_state=42)"
   ]
  },
  {
   "cell_type": "code",
   "execution_count": 116,
   "id": "e2ac4d9c-2a55-4770-9db1-0ec1d8e3e0b2",
   "metadata": {},
   "outputs": [],
   "source": [
    "Y_test = Y_test.values"
   ]
  },
  {
   "cell_type": "code",
   "execution_count": 117,
   "id": "ba95307c-56ee-4dc4-8b16-81789e5e2b51",
   "metadata": {},
   "outputs": [
    {
     "data": {
      "text/html": [
       "<style>#sk-container-id-4 {color: black;background-color: white;}#sk-container-id-4 pre{padding: 0;}#sk-container-id-4 div.sk-toggleable {background-color: white;}#sk-container-id-4 label.sk-toggleable__label {cursor: pointer;display: block;width: 100%;margin-bottom: 0;padding: 0.3em;box-sizing: border-box;text-align: center;}#sk-container-id-4 label.sk-toggleable__label-arrow:before {content: \"▸\";float: left;margin-right: 0.25em;color: #696969;}#sk-container-id-4 label.sk-toggleable__label-arrow:hover:before {color: black;}#sk-container-id-4 div.sk-estimator:hover label.sk-toggleable__label-arrow:before {color: black;}#sk-container-id-4 div.sk-toggleable__content {max-height: 0;max-width: 0;overflow: hidden;text-align: left;background-color: #f0f8ff;}#sk-container-id-4 div.sk-toggleable__content pre {margin: 0.2em;color: black;border-radius: 0.25em;background-color: #f0f8ff;}#sk-container-id-4 input.sk-toggleable__control:checked~div.sk-toggleable__content {max-height: 200px;max-width: 100%;overflow: auto;}#sk-container-id-4 input.sk-toggleable__control:checked~label.sk-toggleable__label-arrow:before {content: \"▾\";}#sk-container-id-4 div.sk-estimator input.sk-toggleable__control:checked~label.sk-toggleable__label {background-color: #d4ebff;}#sk-container-id-4 div.sk-label input.sk-toggleable__control:checked~label.sk-toggleable__label {background-color: #d4ebff;}#sk-container-id-4 input.sk-hidden--visually {border: 0;clip: rect(1px 1px 1px 1px);clip: rect(1px, 1px, 1px, 1px);height: 1px;margin: -1px;overflow: hidden;padding: 0;position: absolute;width: 1px;}#sk-container-id-4 div.sk-estimator {font-family: monospace;background-color: #f0f8ff;border: 1px dotted black;border-radius: 0.25em;box-sizing: border-box;margin-bottom: 0.5em;}#sk-container-id-4 div.sk-estimator:hover {background-color: #d4ebff;}#sk-container-id-4 div.sk-parallel-item::after {content: \"\";width: 100%;border-bottom: 1px solid gray;flex-grow: 1;}#sk-container-id-4 div.sk-label:hover label.sk-toggleable__label {background-color: #d4ebff;}#sk-container-id-4 div.sk-serial::before {content: \"\";position: absolute;border-left: 1px solid gray;box-sizing: border-box;top: 0;bottom: 0;left: 50%;z-index: 0;}#sk-container-id-4 div.sk-serial {display: flex;flex-direction: column;align-items: center;background-color: white;padding-right: 0.2em;padding-left: 0.2em;position: relative;}#sk-container-id-4 div.sk-item {position: relative;z-index: 1;}#sk-container-id-4 div.sk-parallel {display: flex;align-items: stretch;justify-content: center;background-color: white;position: relative;}#sk-container-id-4 div.sk-item::before, #sk-container-id-4 div.sk-parallel-item::before {content: \"\";position: absolute;border-left: 1px solid gray;box-sizing: border-box;top: 0;bottom: 0;left: 50%;z-index: -1;}#sk-container-id-4 div.sk-parallel-item {display: flex;flex-direction: column;z-index: 1;position: relative;background-color: white;}#sk-container-id-4 div.sk-parallel-item:first-child::after {align-self: flex-end;width: 50%;}#sk-container-id-4 div.sk-parallel-item:last-child::after {align-self: flex-start;width: 50%;}#sk-container-id-4 div.sk-parallel-item:only-child::after {width: 0;}#sk-container-id-4 div.sk-dashed-wrapped {border: 1px dashed gray;margin: 0 0.4em 0.5em 0.4em;box-sizing: border-box;padding-bottom: 0.4em;background-color: white;}#sk-container-id-4 div.sk-label label {font-family: monospace;font-weight: bold;display: inline-block;line-height: 1.2em;}#sk-container-id-4 div.sk-label-container {text-align: center;}#sk-container-id-4 div.sk-container {/* jupyter's `normalize.less` sets `[hidden] { display: none; }` but bootstrap.min.css set `[hidden] { display: none !important; }` so we also need the `!important` here to be able to override the default hidden behavior on the sphinx rendered scikit-learn.org. See: https://github.com/scikit-learn/scikit-learn/issues/21755 */display: inline-block !important;position: relative;}#sk-container-id-4 div.sk-text-repr-fallback {display: none;}</style><div id=\"sk-container-id-4\" class=\"sk-top-container\"><div class=\"sk-text-repr-fallback\"><pre>MultiOutputClassifier(estimator=LogisticRegression(max_iter=400))</pre><b>In a Jupyter environment, please rerun this cell to show the HTML representation or trust the notebook. <br />On GitHub, the HTML representation is unable to render, please try loading this page with nbviewer.org.</b></div><div class=\"sk-container\" hidden><div class=\"sk-item sk-dashed-wrapped\"><div class=\"sk-label-container\"><div class=\"sk-label sk-toggleable\"><input class=\"sk-toggleable__control sk-hidden--visually\" id=\"sk-estimator-id-10\" type=\"checkbox\" ><label for=\"sk-estimator-id-10\" class=\"sk-toggleable__label sk-toggleable__label-arrow\">MultiOutputClassifier</label><div class=\"sk-toggleable__content\"><pre>MultiOutputClassifier(estimator=LogisticRegression(max_iter=400))</pre></div></div></div><div class=\"sk-parallel\"><div class=\"sk-parallel-item\"><div class=\"sk-item\"><div class=\"sk-label-container\"><div class=\"sk-label sk-toggleable\"><input class=\"sk-toggleable__control sk-hidden--visually\" id=\"sk-estimator-id-11\" type=\"checkbox\" ><label for=\"sk-estimator-id-11\" class=\"sk-toggleable__label sk-toggleable__label-arrow\">estimator: LogisticRegression</label><div class=\"sk-toggleable__content\"><pre>LogisticRegression(max_iter=400)</pre></div></div></div><div class=\"sk-serial\"><div class=\"sk-item\"><div class=\"sk-estimator sk-toggleable\"><input class=\"sk-toggleable__control sk-hidden--visually\" id=\"sk-estimator-id-12\" type=\"checkbox\" ><label for=\"sk-estimator-id-12\" class=\"sk-toggleable__label sk-toggleable__label-arrow\">LogisticRegression</label><div class=\"sk-toggleable__content\"><pre>LogisticRegression(max_iter=400)</pre></div></div></div></div></div></div></div></div></div></div>"
      ],
      "text/plain": [
       "MultiOutputClassifier(estimator=LogisticRegression(max_iter=400))"
      ]
     },
     "execution_count": 117,
     "metadata": {},
     "output_type": "execute_result"
    }
   ],
   "source": [
    "clf = LogisticRegression(solver='lbfgs', max_iter=400)\n",
    "multi_target_lr = MultiOutputClassifier(clf)\n",
    "multi_target_lr.fit(X_train, y_train)"
   ]
  },
  {
   "cell_type": "code",
   "execution_count": 118,
   "id": "d6388b69-ee52-44df-910c-6ff965dfcba9",
   "metadata": {},
   "outputs": [
    {
     "name": "stdout",
     "output_type": "stream",
     "text": [
      "Accuracy : 0.9886%, \t, Recall : 0.0143%\n"
     ]
    }
   ],
   "source": [
    "Y_pred = multi_target_lr.predict(X_test)\n",
    "\n",
    "acc_score, rec_score = 0., 0.\n",
    "Accuracy_lr = []\n",
    "Recall_lr = []\n",
    "for i in range(y_test.shape[0]):\n",
    "    acc_score += accuracy_score(y_test[i],Y_pred[i])\n",
    "    Accuracy_lr.append(acc_score)\n",
    "    rec_score += recall_score(y_test[i],Y_pred[i])\n",
    "    Recall_lr.append(rec_score)\n",
    "\n",
    "acc_score = acc_score/y_test.shape[0]\n",
    "rec_score = rec_score/y_test.shape[0]\n",
    "\n",
    "print('Accuracy : %.4f%%, \\t, Recall : %.4f%%' %(acc_score, rec_score))"
   ]
  },
  {
   "cell_type": "code",
   "execution_count": 59,
   "id": "ce77b067-0f3e-44bd-9c01-931cf17da03d",
   "metadata": {},
   "outputs": [],
   "source": [
    "import joblib\n"
   ]
  },
  {
   "cell_type": "code",
   "execution_count": 60,
   "id": "71b754a1-2629-4acf-908c-b78aedd1d8ea",
   "metadata": {},
   "outputs": [
    {
     "data": {
      "text/plain": [
       "['model.h5']"
      ]
     },
     "execution_count": 60,
     "metadata": {},
     "output_type": "execute_result"
    }
   ],
   "source": [
    "joblib.dump(multi_target_lr, \"model.h5\")"
   ]
  },
  {
   "cell_type": "code",
   "execution_count": 61,
   "id": "79f9a332-25ad-460c-894d-6d4c4f225bc0",
   "metadata": {},
   "outputs": [],
   "source": [
    "mdl = joblib.load(\"model.h5\")"
   ]
  },
  {
   "cell_type": "code",
   "execution_count": 132,
   "id": "15b7587a-576e-4f07-8363-a6601c9181c4",
   "metadata": {},
   "outputs": [
    {
     "data": {
      "text/html": [
       "<style>#sk-container-id-6 {color: black;background-color: white;}#sk-container-id-6 pre{padding: 0;}#sk-container-id-6 div.sk-toggleable {background-color: white;}#sk-container-id-6 label.sk-toggleable__label {cursor: pointer;display: block;width: 100%;margin-bottom: 0;padding: 0.3em;box-sizing: border-box;text-align: center;}#sk-container-id-6 label.sk-toggleable__label-arrow:before {content: \"▸\";float: left;margin-right: 0.25em;color: #696969;}#sk-container-id-6 label.sk-toggleable__label-arrow:hover:before {color: black;}#sk-container-id-6 div.sk-estimator:hover label.sk-toggleable__label-arrow:before {color: black;}#sk-container-id-6 div.sk-toggleable__content {max-height: 0;max-width: 0;overflow: hidden;text-align: left;background-color: #f0f8ff;}#sk-container-id-6 div.sk-toggleable__content pre {margin: 0.2em;color: black;border-radius: 0.25em;background-color: #f0f8ff;}#sk-container-id-6 input.sk-toggleable__control:checked~div.sk-toggleable__content {max-height: 200px;max-width: 100%;overflow: auto;}#sk-container-id-6 input.sk-toggleable__control:checked~label.sk-toggleable__label-arrow:before {content: \"▾\";}#sk-container-id-6 div.sk-estimator input.sk-toggleable__control:checked~label.sk-toggleable__label {background-color: #d4ebff;}#sk-container-id-6 div.sk-label input.sk-toggleable__control:checked~label.sk-toggleable__label {background-color: #d4ebff;}#sk-container-id-6 input.sk-hidden--visually {border: 0;clip: rect(1px 1px 1px 1px);clip: rect(1px, 1px, 1px, 1px);height: 1px;margin: -1px;overflow: hidden;padding: 0;position: absolute;width: 1px;}#sk-container-id-6 div.sk-estimator {font-family: monospace;background-color: #f0f8ff;border: 1px dotted black;border-radius: 0.25em;box-sizing: border-box;margin-bottom: 0.5em;}#sk-container-id-6 div.sk-estimator:hover {background-color: #d4ebff;}#sk-container-id-6 div.sk-parallel-item::after {content: \"\";width: 100%;border-bottom: 1px solid gray;flex-grow: 1;}#sk-container-id-6 div.sk-label:hover label.sk-toggleable__label {background-color: #d4ebff;}#sk-container-id-6 div.sk-serial::before {content: \"\";position: absolute;border-left: 1px solid gray;box-sizing: border-box;top: 0;bottom: 0;left: 50%;z-index: 0;}#sk-container-id-6 div.sk-serial {display: flex;flex-direction: column;align-items: center;background-color: white;padding-right: 0.2em;padding-left: 0.2em;position: relative;}#sk-container-id-6 div.sk-item {position: relative;z-index: 1;}#sk-container-id-6 div.sk-parallel {display: flex;align-items: stretch;justify-content: center;background-color: white;position: relative;}#sk-container-id-6 div.sk-item::before, #sk-container-id-6 div.sk-parallel-item::before {content: \"\";position: absolute;border-left: 1px solid gray;box-sizing: border-box;top: 0;bottom: 0;left: 50%;z-index: -1;}#sk-container-id-6 div.sk-parallel-item {display: flex;flex-direction: column;z-index: 1;position: relative;background-color: white;}#sk-container-id-6 div.sk-parallel-item:first-child::after {align-self: flex-end;width: 50%;}#sk-container-id-6 div.sk-parallel-item:last-child::after {align-self: flex-start;width: 50%;}#sk-container-id-6 div.sk-parallel-item:only-child::after {width: 0;}#sk-container-id-6 div.sk-dashed-wrapped {border: 1px dashed gray;margin: 0 0.4em 0.5em 0.4em;box-sizing: border-box;padding-bottom: 0.4em;background-color: white;}#sk-container-id-6 div.sk-label label {font-family: monospace;font-weight: bold;display: inline-block;line-height: 1.2em;}#sk-container-id-6 div.sk-label-container {text-align: center;}#sk-container-id-6 div.sk-container {/* jupyter's `normalize.less` sets `[hidden] { display: none; }` but bootstrap.min.css set `[hidden] { display: none !important; }` so we also need the `!important` here to be able to override the default hidden behavior on the sphinx rendered scikit-learn.org. See: https://github.com/scikit-learn/scikit-learn/issues/21755 */display: inline-block !important;position: relative;}#sk-container-id-6 div.sk-text-repr-fallback {display: none;}</style><div id=\"sk-container-id-6\" class=\"sk-top-container\"><div class=\"sk-text-repr-fallback\"><pre>MultiOutputClassifier(estimator=KNeighborsClassifier(n_neighbors=40))</pre><b>In a Jupyter environment, please rerun this cell to show the HTML representation or trust the notebook. <br />On GitHub, the HTML representation is unable to render, please try loading this page with nbviewer.org.</b></div><div class=\"sk-container\" hidden><div class=\"sk-item sk-dashed-wrapped\"><div class=\"sk-label-container\"><div class=\"sk-label sk-toggleable\"><input class=\"sk-toggleable__control sk-hidden--visually\" id=\"sk-estimator-id-16\" type=\"checkbox\" ><label for=\"sk-estimator-id-16\" class=\"sk-toggleable__label sk-toggleable__label-arrow\">MultiOutputClassifier</label><div class=\"sk-toggleable__content\"><pre>MultiOutputClassifier(estimator=KNeighborsClassifier(n_neighbors=40))</pre></div></div></div><div class=\"sk-parallel\"><div class=\"sk-parallel-item\"><div class=\"sk-item\"><div class=\"sk-label-container\"><div class=\"sk-label sk-toggleable\"><input class=\"sk-toggleable__control sk-hidden--visually\" id=\"sk-estimator-id-17\" type=\"checkbox\" ><label for=\"sk-estimator-id-17\" class=\"sk-toggleable__label sk-toggleable__label-arrow\">estimator: KNeighborsClassifier</label><div class=\"sk-toggleable__content\"><pre>KNeighborsClassifier(n_neighbors=40)</pre></div></div></div><div class=\"sk-serial\"><div class=\"sk-item\"><div class=\"sk-estimator sk-toggleable\"><input class=\"sk-toggleable__control sk-hidden--visually\" id=\"sk-estimator-id-18\" type=\"checkbox\" ><label for=\"sk-estimator-id-18\" class=\"sk-toggleable__label sk-toggleable__label-arrow\">KNeighborsClassifier</label><div class=\"sk-toggleable__content\"><pre>KNeighborsClassifier(n_neighbors=40)</pre></div></div></div></div></div></div></div></div></div></div>"
      ],
      "text/plain": [
       "MultiOutputClassifier(estimator=KNeighborsClassifier(n_neighbors=40))"
      ]
     },
     "execution_count": 132,
     "metadata": {},
     "output_type": "execute_result"
    }
   ],
   "source": [
    "from sklearn.neighbors import KNeighborsClassifier\n",
    "\n",
    "clf = KNeighborsClassifier(n_neighbors=40)\n",
    "multi_target_knn = MultiOutputClassifier(clf)\n",
    "multi_target_knn.fit(X_train, Y_train)"
   ]
  },
  {
   "cell_type": "code",
   "execution_count": 133,
   "id": "77f08a26-7644-4eda-b5e3-0da0f59eb23e",
   "metadata": {},
   "outputs": [
    {
     "name": "stdout",
     "output_type": "stream",
     "text": [
      "Accuracy : 0.9838%, \t, Recall : 0.0323%\n"
     ]
    }
   ],
   "source": [
    "Y_pred = multi_target_knn.predict(X_test)\n",
    "\n",
    "acc_score, rec_score = 0., 0.\n",
    "Accuracy_lr = []\n",
    "Recall_lr = []\n",
    "for i in range(Y_test.shape[0]):\n",
    "    acc_score += accuracy_score(Y_test[i],Y_pred[i])\n",
    "    Accuracy_lr.append(acc_score)\n",
    "    rec_score += recall_score(Y_test[i],Y_pred[i])\n",
    "    Recall_lr.append(rec_score)\n",
    "\n",
    "acc_score = acc_score/Y_test.shape[0]\n",
    "rec_score = rec_score/Y_test.shape[0]\n",
    "\n",
    "print('Accuracy : %.4f%%, \\t, Recall : %.4f%%' %(acc_score, rec_score))"
   ]
  },
  {
   "cell_type": "code",
   "execution_count": 173,
   "id": "1aadfe36-0fda-4d70-ba23-2558303a3079",
   "metadata": {},
   "outputs": [
    {
     "data": {
      "text/plain": [
       "array([0, 0, 0, 0, 0, 0, 0, 0, 0, 0, 0, 0, 0, 0, 0, 1, 0, 0, 0, 0, 1, 0,\n",
       "       0, 0, 0, 0, 0, 0, 0, 0, 0, 0, 0, 0, 0, 0, 0, 0, 0, 0, 0, 0, 0, 0,\n",
       "       0, 0, 0, 0, 0, 0, 0, 0, 0, 0, 0, 0, 0, 0, 0, 0, 0, 0, 0, 0, 0, 0,\n",
       "       0, 0, 0, 0, 0, 0, 0, 0, 0, 0, 0, 0, 0, 0, 0, 0, 0, 0, 0, 0, 0, 0,\n",
       "       0, 0, 0, 0, 0])"
      ]
     },
     "execution_count": 173,
     "metadata": {},
     "output_type": "execute_result"
    }
   ],
   "source": [
    "Y_pred[9]"
   ]
  },
  {
   "cell_type": "code",
   "execution_count": 166,
   "id": "708930ef-d496-4e24-ba15-8a4c9f8d02c2",
   "metadata": {},
   "outputs": [
    {
     "data": {
      "text/plain": [
       "array([1, 0, 0, 0, 0, 0, 0, 1, 1, 0, 0, 0, 0, 1, 0, 0, 0, 0, 0, 0, 0, 0,\n",
       "       0, 0, 0, 0, 0, 0, 0, 0, 1, 0, 0, 0, 0, 0, 0, 0, 0, 0, 0, 1, 0, 0,\n",
       "       0, 0, 0, 0, 0, 0, 1, 0, 0, 0, 0, 0, 1, 0, 0, 0, 0, 0, 0, 0, 0, 0,\n",
       "       0, 0, 0, 0, 0, 0, 0, 0, 0, 0, 0, 0, 0, 0, 0, 0, 0, 1, 0, 0, 0, 0,\n",
       "       0, 0, 0, 0, 0])"
      ]
     },
     "execution_count": 166,
     "metadata": {},
     "output_type": "execute_result"
    }
   ],
   "source": [
    "Y_test[205]"
   ]
  },
  {
   "cell_type": "code",
   "execution_count": 163,
   "id": "dc3a8178-582e-4aa8-ab91-bda821955556",
   "metadata": {},
   "outputs": [
    {
     "data": {
      "text/html": [
       "<style>#sk-container-id-8 {color: black;background-color: white;}#sk-container-id-8 pre{padding: 0;}#sk-container-id-8 div.sk-toggleable {background-color: white;}#sk-container-id-8 label.sk-toggleable__label {cursor: pointer;display: block;width: 100%;margin-bottom: 0;padding: 0.3em;box-sizing: border-box;text-align: center;}#sk-container-id-8 label.sk-toggleable__label-arrow:before {content: \"▸\";float: left;margin-right: 0.25em;color: #696969;}#sk-container-id-8 label.sk-toggleable__label-arrow:hover:before {color: black;}#sk-container-id-8 div.sk-estimator:hover label.sk-toggleable__label-arrow:before {color: black;}#sk-container-id-8 div.sk-toggleable__content {max-height: 0;max-width: 0;overflow: hidden;text-align: left;background-color: #f0f8ff;}#sk-container-id-8 div.sk-toggleable__content pre {margin: 0.2em;color: black;border-radius: 0.25em;background-color: #f0f8ff;}#sk-container-id-8 input.sk-toggleable__control:checked~div.sk-toggleable__content {max-height: 200px;max-width: 100%;overflow: auto;}#sk-container-id-8 input.sk-toggleable__control:checked~label.sk-toggleable__label-arrow:before {content: \"▾\";}#sk-container-id-8 div.sk-estimator input.sk-toggleable__control:checked~label.sk-toggleable__label {background-color: #d4ebff;}#sk-container-id-8 div.sk-label input.sk-toggleable__control:checked~label.sk-toggleable__label {background-color: #d4ebff;}#sk-container-id-8 input.sk-hidden--visually {border: 0;clip: rect(1px 1px 1px 1px);clip: rect(1px, 1px, 1px, 1px);height: 1px;margin: -1px;overflow: hidden;padding: 0;position: absolute;width: 1px;}#sk-container-id-8 div.sk-estimator {font-family: monospace;background-color: #f0f8ff;border: 1px dotted black;border-radius: 0.25em;box-sizing: border-box;margin-bottom: 0.5em;}#sk-container-id-8 div.sk-estimator:hover {background-color: #d4ebff;}#sk-container-id-8 div.sk-parallel-item::after {content: \"\";width: 100%;border-bottom: 1px solid gray;flex-grow: 1;}#sk-container-id-8 div.sk-label:hover label.sk-toggleable__label {background-color: #d4ebff;}#sk-container-id-8 div.sk-serial::before {content: \"\";position: absolute;border-left: 1px solid gray;box-sizing: border-box;top: 0;bottom: 0;left: 50%;z-index: 0;}#sk-container-id-8 div.sk-serial {display: flex;flex-direction: column;align-items: center;background-color: white;padding-right: 0.2em;padding-left: 0.2em;position: relative;}#sk-container-id-8 div.sk-item {position: relative;z-index: 1;}#sk-container-id-8 div.sk-parallel {display: flex;align-items: stretch;justify-content: center;background-color: white;position: relative;}#sk-container-id-8 div.sk-item::before, #sk-container-id-8 div.sk-parallel-item::before {content: \"\";position: absolute;border-left: 1px solid gray;box-sizing: border-box;top: 0;bottom: 0;left: 50%;z-index: -1;}#sk-container-id-8 div.sk-parallel-item {display: flex;flex-direction: column;z-index: 1;position: relative;background-color: white;}#sk-container-id-8 div.sk-parallel-item:first-child::after {align-self: flex-end;width: 50%;}#sk-container-id-8 div.sk-parallel-item:last-child::after {align-self: flex-start;width: 50%;}#sk-container-id-8 div.sk-parallel-item:only-child::after {width: 0;}#sk-container-id-8 div.sk-dashed-wrapped {border: 1px dashed gray;margin: 0 0.4em 0.5em 0.4em;box-sizing: border-box;padding-bottom: 0.4em;background-color: white;}#sk-container-id-8 div.sk-label label {font-family: monospace;font-weight: bold;display: inline-block;line-height: 1.2em;}#sk-container-id-8 div.sk-label-container {text-align: center;}#sk-container-id-8 div.sk-container {/* jupyter's `normalize.less` sets `[hidden] { display: none; }` but bootstrap.min.css set `[hidden] { display: none !important; }` so we also need the `!important` here to be able to override the default hidden behavior on the sphinx rendered scikit-learn.org. See: https://github.com/scikit-learn/scikit-learn/issues/21755 */display: inline-block !important;position: relative;}#sk-container-id-8 div.sk-text-repr-fallback {display: none;}</style><div id=\"sk-container-id-8\" class=\"sk-top-container\"><div class=\"sk-text-repr-fallback\"><pre>MultiOutputClassifier(estimator=RandomForestClassifier(max_depth=60,\n",
       "                                                       n_estimators=300))</pre><b>In a Jupyter environment, please rerun this cell to show the HTML representation or trust the notebook. <br />On GitHub, the HTML representation is unable to render, please try loading this page with nbviewer.org.</b></div><div class=\"sk-container\" hidden><div class=\"sk-item sk-dashed-wrapped\"><div class=\"sk-label-container\"><div class=\"sk-label sk-toggleable\"><input class=\"sk-toggleable__control sk-hidden--visually\" id=\"sk-estimator-id-22\" type=\"checkbox\" ><label for=\"sk-estimator-id-22\" class=\"sk-toggleable__label sk-toggleable__label-arrow\">MultiOutputClassifier</label><div class=\"sk-toggleable__content\"><pre>MultiOutputClassifier(estimator=RandomForestClassifier(max_depth=60,\n",
       "                                                       n_estimators=300))</pre></div></div></div><div class=\"sk-parallel\"><div class=\"sk-parallel-item\"><div class=\"sk-item\"><div class=\"sk-label-container\"><div class=\"sk-label sk-toggleable\"><input class=\"sk-toggleable__control sk-hidden--visually\" id=\"sk-estimator-id-23\" type=\"checkbox\" ><label for=\"sk-estimator-id-23\" class=\"sk-toggleable__label sk-toggleable__label-arrow\">estimator: RandomForestClassifier</label><div class=\"sk-toggleable__content\"><pre>RandomForestClassifier(max_depth=60, n_estimators=300)</pre></div></div></div><div class=\"sk-serial\"><div class=\"sk-item\"><div class=\"sk-estimator sk-toggleable\"><input class=\"sk-toggleable__control sk-hidden--visually\" id=\"sk-estimator-id-24\" type=\"checkbox\" ><label for=\"sk-estimator-id-24\" class=\"sk-toggleable__label sk-toggleable__label-arrow\">RandomForestClassifier</label><div class=\"sk-toggleable__content\"><pre>RandomForestClassifier(max_depth=60, n_estimators=300)</pre></div></div></div></div></div></div></div></div></div></div>"
      ],
      "text/plain": [
       "MultiOutputClassifier(estimator=RandomForestClassifier(max_depth=60,\n",
       "                                                       n_estimators=300))"
      ]
     },
     "execution_count": 163,
     "metadata": {},
     "output_type": "execute_result"
    }
   ],
   "source": [
    "clf = RandomForestClassifier(n_estimators=300, criterion = 'gini', max_depth=60, random_state=None)\n",
    "multi_target_forest = MultiOutputClassifier(clf)\n",
    "multi_target_forest.fit(X_train, Y_train)"
   ]
  },
  {
   "cell_type": "code",
   "execution_count": 171,
   "id": "2b46c3f3-231c-4bd1-afba-728f671aa1ca",
   "metadata": {},
   "outputs": [
    {
     "name": "stdout",
     "output_type": "stream",
     "text": [
      "Accuracy : 0.9816%, \t Precision : 0.0997%, \t, Recall : 0.0935%\n"
     ]
    }
   ],
   "source": [
    "import warnings\n",
    "warnings.filterwarnings('ignore')\n",
    "\n",
    "Y_pred = multi_target_forest.predict(X_test)\n",
    "\n",
    "acc_score, prec_score, rec_score = 0., 0., 0.\n",
    "Accuracy_RF = []\n",
    "Precision_RF = []\n",
    "Recall_RF = []\n",
    "for i in range(Y_test.shape[0]):\n",
    "    acc_score  += accuracy_score(Y_test[i],Y_pred[i])\n",
    "    Accuracy_RF.append(acc_score)\n",
    "    prec_score += precision_score(Y_test[i],Y_pred[i])\n",
    "    Precision_RF.append(prec_score)\n",
    "    rec_score  += recall_score(Y_test[i],Y_pred[i])\n",
    "    Recall_RF.append(rec_score)\n",
    "\n",
    "acc_score  = acc_score/Y_test.shape[0]\n",
    "prec_score = prec_score/Y_test.shape[0]\n",
    "rec_score  = rec_score/Y_test.shape[0]\n",
    "\n",
    "print('Accuracy : %.4f%%, \\t Precision : %.4f%%, \\t, Recall : %.4f%%' %(acc_score, prec_score, rec_score))"
   ]
  },
  {
   "cell_type": "code",
   "execution_count": null,
   "id": "50833530-da0a-4ce2-be61-a2b4af8db5e0",
   "metadata": {},
   "outputs": [],
   "source": []
  }
 ],
 "metadata": {
  "kernelspec": {
   "display_name": "default:Python",
   "language": "python",
   "name": "conda-env-default-py"
  },
  "language_info": {
   "codemirror_mode": {
    "name": "ipython",
    "version": 3
   },
   "file_extension": ".py",
   "mimetype": "text/x-python",
   "name": "python",
   "nbconvert_exporter": "python",
   "pygments_lexer": "ipython3",
   "version": "3.9.7"
  }
 },
 "nbformat": 4,
 "nbformat_minor": 5
}
